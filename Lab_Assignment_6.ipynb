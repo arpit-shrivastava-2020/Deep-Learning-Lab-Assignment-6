{
  "nbformat": 4,
  "nbformat_minor": 0,
  "metadata": {
    "colab": {
      "name": "Lab-Assignment-6.ipynb",
      "provenance": [],
      "collapsed_sections": []
    },
    "kernelspec": {
      "name": "python3",
      "display_name": "Python 3"
    },
    "language_info": {
      "name": "python"
    },
    "accelerator": "GPU"
  },
  "cells": [
    {
      "cell_type": "code",
      "metadata": {
        "id": "bNm_SD_w8aS2"
      },
      "source": [
        "#GitHub Link:-https://github.com/arpit-shrivastava-2020/Deep-Learning-Lab-Assignment-6.git"
      ],
      "execution_count": 1,
      "outputs": []
    },
    {
      "cell_type": "code",
      "metadata": {
        "colab": {
          "base_uri": "https://localhost:8080/",
          "height": 0
        },
        "id": "EQlKRsXq6kjq",
        "outputId": "a78f63aa-7206-44a4-c0ef-0823e98253c0"
      },
      "source": [
        "print(\"Code By Arpit Shrivastava,Registration Number(20MAI0068)\")"
      ],
      "execution_count": 2,
      "outputs": [
        {
          "output_type": "stream",
          "text": [
            "Code By Arpit Shrivastava,Registration Number(20MAI0068)\n"
          ],
          "name": "stdout"
        }
      ]
    },
    {
      "cell_type": "code",
      "metadata": {
        "id": "MZ4IhQdy0RBi"
      },
      "source": [
        "import keras\n",
        "from keras import layers\n",
        "\n",
        "input_img = keras.Input(shape=(28, 28, 1))\n",
        "\n",
        "x = layers.Conv2D(16, (3, 3), activation='relu', padding='same')(input_img)\n",
        "x = layers.MaxPooling2D((2, 2), padding='same')(x)\n",
        "x = layers.Conv2D(8, (3, 3), activation='relu', padding='same')(x)\n",
        "x = layers.MaxPooling2D((2, 2), padding='same')(x)\n",
        "x = layers.Conv2D(8, (3, 3), activation='relu', padding='same')(x)\n",
        "encoded = layers.MaxPooling2D((2, 2), padding='same')(x)\n",
        "x = layers.Conv2D(8, (3, 3), activation='relu', padding='same')(encoded)\n",
        "x = layers.UpSampling2D((2, 2))(x)\n",
        "x = layers.Conv2D(8, (3, 3), activation='relu', padding='same')(x)\n",
        "x = layers.UpSampling2D((2, 2))(x)\n",
        "x = layers.Conv2D(16, (3, 3), activation='relu')(x)\n",
        "x = layers.UpSampling2D((2, 2))(x)\n",
        "decoded = layers.Conv2D(1, (3, 3), activation='sigmoid', padding='same')(x)\n",
        "\n",
        "autoencoder = keras.Model(input_img, decoded)\n",
        "autoencoder.compile(optimizer='adam', loss='binary_crossentropy')"
      ],
      "execution_count": 3,
      "outputs": []
    },
    {
      "cell_type": "code",
      "metadata": {
        "colab": {
          "base_uri": "https://localhost:8080/",
          "height": 0
        },
        "id": "II2MXmtB0i3k",
        "outputId": "76cd83a6-ead4-452b-e736-381b57a5ef0b"
      },
      "source": [
        "from keras.datasets import mnist\n",
        "import numpy as np\n",
        "\n",
        "(x_train, _), (x_test, _) = mnist.load_data()\n",
        "\n",
        "x_train = x_train.astype('float32') / 255.\n",
        "x_test = x_test.astype('float32') / 255.\n",
        "x_train = np.reshape(x_train, (len(x_train), 28, 28, 1))\n",
        "x_test = np.reshape(x_test, (len(x_test), 28, 28, 1))"
      ],
      "execution_count": 4,
      "outputs": [
        {
          "output_type": "stream",
          "text": [
            "Downloading data from https://storage.googleapis.com/tensorflow/tf-keras-datasets/mnist.npz\n",
            "11493376/11490434 [==============================] - 0s 0us/step\n"
          ],
          "name": "stdout"
        }
      ]
    },
    {
      "cell_type": "code",
      "metadata": {
        "colab": {
          "base_uri": "https://localhost:8080/",
          "height": 0
        },
        "id": "3m3xVvge0rG6",
        "outputId": "76cab8e1-36d2-4f6c-f08b-0b3e244e8489"
      },
      "source": [
        "from keras.callbacks import TensorBoard\n",
        "\n",
        "autoencoder.fit(x_train, x_train,\n",
        "                epochs=50,\n",
        "                batch_size=128,\n",
        "                shuffle=True,\n",
        "                validation_data=(x_test, x_test),\n",
        "                callbacks=[TensorBoard(log_dir='/tmp/autoencoder')])"
      ],
      "execution_count": 5,
      "outputs": [
        {
          "output_type": "stream",
          "text": [
            "Epoch 1/50\n",
            "469/469 [==============================] - 37s 10ms/step - loss: 0.3170 - val_loss: 0.1545\n",
            "Epoch 2/50\n",
            "469/469 [==============================] - 3s 6ms/step - loss: 0.1484 - val_loss: 0.1317\n",
            "Epoch 3/50\n",
            "469/469 [==============================] - 3s 6ms/step - loss: 0.1301 - val_loss: 0.1218\n",
            "Epoch 4/50\n",
            "469/469 [==============================] - 3s 7ms/step - loss: 0.1216 - val_loss: 0.1166\n",
            "Epoch 5/50\n",
            "469/469 [==============================] - 3s 6ms/step - loss: 0.1172 - val_loss: 0.1127\n",
            "Epoch 6/50\n",
            "469/469 [==============================] - 3s 6ms/step - loss: 0.1133 - val_loss: 0.1098\n",
            "Epoch 7/50\n",
            "469/469 [==============================] - 3s 6ms/step - loss: 0.1106 - val_loss: 0.1076\n",
            "Epoch 8/50\n",
            "469/469 [==============================] - 3s 6ms/step - loss: 0.1085 - val_loss: 0.1067\n",
            "Epoch 9/50\n",
            "469/469 [==============================] - 3s 7ms/step - loss: 0.1067 - val_loss: 0.1047\n",
            "Epoch 10/50\n",
            "469/469 [==============================] - 3s 6ms/step - loss: 0.1057 - val_loss: 0.1036\n",
            "Epoch 11/50\n",
            "469/469 [==============================] - 3s 7ms/step - loss: 0.1043 - val_loss: 0.1028\n",
            "Epoch 12/50\n",
            "469/469 [==============================] - 3s 6ms/step - loss: 0.1034 - val_loss: 0.1017\n",
            "Epoch 13/50\n",
            "469/469 [==============================] - 3s 6ms/step - loss: 0.1027 - val_loss: 0.1008\n",
            "Epoch 14/50\n",
            "469/469 [==============================] - 3s 6ms/step - loss: 0.1019 - val_loss: 0.1008\n",
            "Epoch 15/50\n",
            "469/469 [==============================] - 3s 6ms/step - loss: 0.1011 - val_loss: 0.0997\n",
            "Epoch 16/50\n",
            "469/469 [==============================] - 3s 6ms/step - loss: 0.1006 - val_loss: 0.0991\n",
            "Epoch 17/50\n",
            "469/469 [==============================] - 3s 6ms/step - loss: 0.1002 - val_loss: 0.0989\n",
            "Epoch 18/50\n",
            "469/469 [==============================] - 3s 6ms/step - loss: 0.0999 - val_loss: 0.0981\n",
            "Epoch 19/50\n",
            "469/469 [==============================] - 3s 6ms/step - loss: 0.0992 - val_loss: 0.0978\n",
            "Epoch 20/50\n",
            "469/469 [==============================] - 3s 6ms/step - loss: 0.0989 - val_loss: 0.0976\n",
            "Epoch 21/50\n",
            "469/469 [==============================] - 3s 6ms/step - loss: 0.0985 - val_loss: 0.0973\n",
            "Epoch 22/50\n",
            "469/469 [==============================] - 3s 6ms/step - loss: 0.0982 - val_loss: 0.0969\n",
            "Epoch 23/50\n",
            "469/469 [==============================] - 3s 6ms/step - loss: 0.0978 - val_loss: 0.0968\n",
            "Epoch 24/50\n",
            "469/469 [==============================] - 3s 7ms/step - loss: 0.0976 - val_loss: 0.0961\n",
            "Epoch 25/50\n",
            "469/469 [==============================] - 3s 6ms/step - loss: 0.0972 - val_loss: 0.0958\n",
            "Epoch 26/50\n",
            "469/469 [==============================] - 3s 6ms/step - loss: 0.0970 - val_loss: 0.0961\n",
            "Epoch 27/50\n",
            "469/469 [==============================] - 3s 6ms/step - loss: 0.0971 - val_loss: 0.0953\n",
            "Epoch 28/50\n",
            "469/469 [==============================] - 3s 6ms/step - loss: 0.0966 - val_loss: 0.0958\n",
            "Epoch 29/50\n",
            "469/469 [==============================] - 3s 6ms/step - loss: 0.0963 - val_loss: 0.0949\n",
            "Epoch 30/50\n",
            "469/469 [==============================] - 3s 6ms/step - loss: 0.0957 - val_loss: 0.0946\n",
            "Epoch 31/50\n",
            "469/469 [==============================] - 3s 6ms/step - loss: 0.0955 - val_loss: 0.0944\n",
            "Epoch 32/50\n",
            "469/469 [==============================] - 3s 7ms/step - loss: 0.0954 - val_loss: 0.0944\n",
            "Epoch 33/50\n",
            "469/469 [==============================] - 3s 6ms/step - loss: 0.0954 - val_loss: 0.0939\n",
            "Epoch 34/50\n",
            "469/469 [==============================] - 3s 6ms/step - loss: 0.0949 - val_loss: 0.0941\n",
            "Epoch 35/50\n",
            "469/469 [==============================] - 3s 7ms/step - loss: 0.0950 - val_loss: 0.0940\n",
            "Epoch 36/50\n",
            "469/469 [==============================] - 3s 7ms/step - loss: 0.0946 - val_loss: 0.0936\n",
            "Epoch 37/50\n",
            "469/469 [==============================] - 3s 6ms/step - loss: 0.0949 - val_loss: 0.0935\n",
            "Epoch 38/50\n",
            "469/469 [==============================] - 3s 7ms/step - loss: 0.0946 - val_loss: 0.0934\n",
            "Epoch 39/50\n",
            "469/469 [==============================] - 3s 6ms/step - loss: 0.0941 - val_loss: 0.0930\n",
            "Epoch 40/50\n",
            "469/469 [==============================] - 3s 6ms/step - loss: 0.0941 - val_loss: 0.0935\n",
            "Epoch 41/50\n",
            "469/469 [==============================] - 3s 7ms/step - loss: 0.0942 - val_loss: 0.0929\n",
            "Epoch 42/50\n",
            "469/469 [==============================] - 3s 7ms/step - loss: 0.0937 - val_loss: 0.0925\n",
            "Epoch 43/50\n",
            "469/469 [==============================] - 3s 7ms/step - loss: 0.0937 - val_loss: 0.0927\n",
            "Epoch 44/50\n",
            "469/469 [==============================] - 3s 7ms/step - loss: 0.0935 - val_loss: 0.0923\n",
            "Epoch 45/50\n",
            "469/469 [==============================] - 3s 7ms/step - loss: 0.0933 - val_loss: 0.0923\n",
            "Epoch 46/50\n",
            "469/469 [==============================] - 3s 7ms/step - loss: 0.0934 - val_loss: 0.0922\n",
            "Epoch 47/50\n",
            "469/469 [==============================] - 3s 7ms/step - loss: 0.0932 - val_loss: 0.0921\n",
            "Epoch 48/50\n",
            "469/469 [==============================] - 3s 7ms/step - loss: 0.0932 - val_loss: 0.0923\n",
            "Epoch 49/50\n",
            "469/469 [==============================] - 3s 7ms/step - loss: 0.0931 - val_loss: 0.0919\n",
            "Epoch 50/50\n",
            "469/469 [==============================] - 3s 7ms/step - loss: 0.0930 - val_loss: 0.0917\n"
          ],
          "name": "stdout"
        },
        {
          "output_type": "execute_result",
          "data": {
            "text/plain": [
              "<tensorflow.python.keras.callbacks.History at 0x7f39ca06fbd0>"
            ]
          },
          "metadata": {
            "tags": []
          },
          "execution_count": 5
        }
      ]
    },
    {
      "cell_type": "code",
      "metadata": {
        "colab": {
          "base_uri": "https://localhost:8080/",
          "height": 248
        },
        "id": "LhgMR4QL0uOL",
        "outputId": "35cacc0c-42e4-42f0-e8c6-a95f68d0cab0"
      },
      "source": [
        "import matplotlib.pyplot as plt\n",
        "decoded_imgs = autoencoder.predict(x_test)\n",
        "\n",
        "n = 10\n",
        "plt.figure(figsize=(20, 4))\n",
        "for i in range(1, n + 1):\n",
        "    ax = plt.subplot(2, n, i)\n",
        "    plt.imshow(x_test[i].reshape(28, 28))\n",
        "    plt.gray()\n",
        "    ax.get_xaxis().set_visible(False)\n",
        "    ax.get_yaxis().set_visible(False)\n",
        "    ax = plt.subplot(2, n, i + n)\n",
        "    plt.imshow(decoded_imgs[i].reshape(28, 28))\n",
        "    plt.gray()\n",
        "    ax.get_xaxis().set_visible(False)\n",
        "    ax.get_yaxis().set_visible(False)\n",
        "plt.show()"
      ],
      "execution_count": 6,
      "outputs": [
        {
          "output_type": "display_data",
          "data": {
            "image/png": "[encoded data removed]",
            "text/plain": [
              "<Figure size 1440x288 with 20 Axes>"
            ]
          },
          "metadata": {
            "tags": [],
            "needs_background": "light"
          }
        }
      ]
    },
    {
      "cell_type": "code",
      "metadata": {
        "colab": {
          "base_uri": "https://localhost:8080/",
          "height": 469
        },
        "id": "h7xh2NpF16ru",
        "outputId": "f886964f-7360-4863-fe71-7aa5cb79467a"
      },
      "source": [
        "encoder = keras.Model(input_img, encoded)\n",
        "encoded_imgs = encoder.predict(x_test)\n",
        "\n",
        "n = 10\n",
        "plt.figure(figsize=(20, 8))\n",
        "for i in range(1, n + 1):\n",
        "    ax = plt.subplot(1, n, i)\n",
        "    plt.imshow(encoded_imgs[i].reshape((4, 4 * 8)).T)\n",
        "    plt.gray()\n",
        "    ax.get_xaxis().set_visible(False)\n",
        "    ax.get_yaxis().set_visible(False)\n",
        "plt.show()"
      ],
      "execution_count": 7,
      "outputs": [
        {
          "output_type": "display_data",
          "data": {
            "image/png": "[encoded data removed]",
            "text/plain": [
              "<Figure size 1440x576 with 10 Axes>"
            ]
          },
          "metadata": {
            "tags": [],
            "needs_background": "light"
          }
        }
      ]
    },
    {
      "cell_type": "code",
      "metadata": {
        "id": "rpKPPeiLWHXI"
      },
      "source": [
        "#Denoising Autoencoders"
      ],
      "execution_count": 8,
      "outputs": []
    },
    {
      "cell_type": "code",
      "metadata": {
        "id": "PfjC1squ2Jo3"
      },
      "source": [
        "import numpy as np\n",
        "from keras.datasets import mnist\n",
        "import matplotlib.pyplot as plt\n",
        "from tqdm import tqdm\n",
        "from torchvision import transforms\n",
        "import torch.nn as nn\n",
        "from torch.utils.data import DataLoader,Dataset\n",
        "import torch\n",
        "import torch.optim as optim\n",
        "from torch.autograd import Variable"
      ],
      "execution_count": 9,
      "outputs": []
    },
    {
      "cell_type": "code",
      "metadata": {
        "id": "OimXfE6L2NPD"
      },
      "source": [
        "def add_noise(img,noise_type=\"gaussian\"):\n",
        "  \n",
        "  row,col=28,28\n",
        "  img=img.astype(np.float32)\n",
        "  \n",
        "  if noise_type==\"gaussian\":\n",
        "    mean=0\n",
        "    var=10\n",
        "    sigma=var**.5\n",
        "    noise=np.random.normal(-5.9,5.9,img.shape)\n",
        "    noise=noise.reshape(row,col)\n",
        "    img=img+noise\n",
        "    return img\n",
        "\n",
        "  if noise_type==\"speckle\":\n",
        "    noise=np.random.randn(row,col)\n",
        "    noise=noise.reshape(row,col)\n",
        "    img=img+img*noise\n",
        "    return img"
      ],
      "execution_count": 10,
      "outputs": []
    },
    {
      "cell_type": "code",
      "metadata": {
        "colab": {
          "base_uri": "https://localhost:8080/",
          "height": 0
        },
        "id": "vAKx56AT2RJ9",
        "outputId": "45093766-f1f5-461b-f2b2-056e8509cf59"
      },
      "source": [
        "(xtrain,ytrain),(xtest,ytest)=mnist.load_data()\n",
        "print(\"No of training datapoints:{}\\nNo of Test datapoints:{}\".format(len(xtrain),len(xtest)))"
      ],
      "execution_count": 11,
      "outputs": [
        {
          "output_type": "stream",
          "text": [
            "No of training datapoints:60000\n",
            "No of Test datapoints:10000\n"
          ],
          "name": "stdout"
        }
      ]
    },
    {
      "cell_type": "code",
      "metadata": {
        "colab": {
          "base_uri": "https://localhost:8080/",
          "height": 0
        },
        "id": "riEhd34G2Vth",
        "outputId": "f861091b-6d43-4849-f2f9-8e01641f7934"
      },
      "source": [
        "noises=[\"gaussian\",\"speckle\"]\n",
        "noise_ct=0\n",
        "noise_id=0\n",
        "traindata=np.zeros((60000,28,28))\n",
        "\n",
        "\n",
        "\n",
        "for idx in tqdm(range(len(xtrain))):\n",
        "  \n",
        "  if noise_ct<(len(xtrain)/2):\n",
        "    noise_ct+=1\n",
        "    traindata[idx]=add_noise(xtrain[idx],noise_type=noises[noise_id])\n",
        "    \n",
        "  else:\n",
        "    print(\"\\n{} noise addition completed to images\".format(noises[noise_id]))\n",
        "    noise_id+=1\n",
        "    noise_ct=0\n",
        "\n",
        "\n",
        "print(\"\\n{} noise addition completed to images\".format(noises[noise_id])) \n",
        "\n",
        "\n",
        "\n",
        "\n",
        "noise_ct=0\n",
        "noise_id=0\n",
        "testdata=np.zeros((10000,28,28))\n",
        "\n",
        "for idx in tqdm(range(len(xtest))):\n",
        "  \n",
        "  if noise_ct<(len(xtest)/2):\n",
        "    noise_ct+=1\n",
        "    x=add_noise(xtest[idx],noise_type=noises[noise_id])\n",
        "    testdata[idx]=x\n",
        "    \n",
        "  else:\n",
        "    print(\"\\n{} noise addition completed to images\".format(noises[noise_id]))\n",
        "    noise_id+=1\n",
        "    noise_ct=0\n",
        "\n",
        "\n",
        "print(\"\\n{} noise addition completed to images\".format(noises[noise_id]))"
      ],
      "execution_count": 12,
      "outputs": [
        {
          "output_type": "stream",
          "text": [
            " 54%|█████▍    | 32563/60000 [00:01<00:01, 20123.67it/s]"
          ],
          "name": "stderr"
        },
        {
          "output_type": "stream",
          "text": [
            "\n",
            "gaussian noise addition completed to images\n"
          ],
          "name": "stdout"
        },
        {
          "output_type": "stream",
          "text": [
            "100%|██████████| 60000/60000 [00:02<00:00, 20728.27it/s]\n",
            " 22%|██▏       | 2173/10000 [00:00<00:00, 21725.26it/s]"
          ],
          "name": "stderr"
        },
        {
          "output_type": "stream",
          "text": [
            "\n",
            "speckle noise addition completed to images\n"
          ],
          "name": "stdout"
        },
        {
          "output_type": "stream",
          "text": [
            " 85%|████████▍ | 8468/10000 [00:00<00:00, 21365.67it/s]"
          ],
          "name": "stderr"
        },
        {
          "output_type": "stream",
          "text": [
            "\n",
            "gaussian noise addition completed to images\n"
          ],
          "name": "stdout"
        },
        {
          "output_type": "stream",
          "text": [
            "\r100%|██████████| 10000/10000 [00:00<00:00, 21025.73it/s]"
          ],
          "name": "stderr"
        },
        {
          "output_type": "stream",
          "text": [
            "\n",
            "speckle noise addition completed to images\n"
          ],
          "name": "stdout"
        },
        {
          "output_type": "stream",
          "text": [
            "\n"
          ],
          "name": "stderr"
        }
      ]
    },
    {
      "cell_type": "code",
      "metadata": {
        "colab": {
          "base_uri": "https://localhost:8080/",
          "height": 298
        },
        "id": "BTQjnarl5NzU",
        "outputId": "7fb5b06e-6822-4813-bf84-82cfd57aea1f"
      },
      "source": [
        "f, axes=plt.subplots(2,2)\n",
        "\n",
        "axes[0,0].imshow(xtrain[0],cmap=\"gray\")\n",
        "axes[0,0].set_title(\"Original Image\")\n",
        "axes[1,0].imshow(traindata[0],cmap='gray')\n",
        "axes[1,0].set_title(\"Noised Image\")\n",
        "\n",
        "axes[0,1].imshow(xtrain[25000],cmap='gray')\n",
        "axes[0,1].set_title(\"Original Image\")\n",
        "axes[1,1].imshow(traindata[25000],cmap=\"gray\")\n",
        "axes[1,1].set_title(\"Noised Image\")"
      ],
      "execution_count": 13,
      "outputs": [
        {
          "output_type": "execute_result",
          "data": {
            "text/plain": [
              "Text(0.5, 1.0, 'Noised Image')"
            ]
          },
          "metadata": {
            "tags": []
          },
          "execution_count": 13
        },
        {
          "output_type": "display_data",
          "data": {
            "image/png": "[encoded data removed]",
            "text/plain": [
              "<Figure size 432x288 with 4 Axes>"
            ]
          },
          "metadata": {
            "tags": [],
            "needs_background": "light"
          }
        }
      ]
    },
    {
      "cell_type": "code",
      "metadata": {
        "id": "Wo7g3BEZ5TER"
      },
      "source": [
        "class noisedDataset(Dataset):\n",
        "  \n",
        "  def __init__(self,datasetnoised,datasetclean,labels,transform):\n",
        "    self.noise=datasetnoised\n",
        "    self.clean=datasetclean\n",
        "    self.labels=labels\n",
        "    self.transform=transform\n",
        "  \n",
        "  def __len__(self):\n",
        "    return len(self.noise)\n",
        "  \n",
        "  def __getitem__(self,idx):\n",
        "    xNoise=self.noise[idx]\n",
        "    xClean=self.clean[idx]\n",
        "    y=self.labels[idx]\n",
        "    \n",
        "    if self.transform != None:\n",
        "      xNoise=self.transform(xNoise)\n",
        "      xClean=self.transform(xClean)\n",
        "      \n",
        "    \n",
        "    return (xNoise,xClean,y)"
      ],
      "execution_count": 14,
      "outputs": []
    },
    {
      "cell_type": "code",
      "metadata": {
        "id": "rmGJIusP5WsN"
      },
      "source": [
        "tsfms=transforms.Compose([\n",
        "    transforms.ToTensor()\n",
        "])\n",
        "\n",
        "trainset=noisedDataset(traindata,xtrain,ytrain,tsfms)\n",
        "testset=noisedDataset(testdata,xtest,ytest,tsfms)"
      ],
      "execution_count": 15,
      "outputs": []
    },
    {
      "cell_type": "code",
      "metadata": {
        "id": "ZMHXrpTW5ZWu"
      },
      "source": [
        "batch_size=32\n",
        "\n",
        "\n",
        "\n",
        "trainloader=DataLoader(trainset,batch_size=32,shuffle=True)\n",
        "testloader=DataLoader(testset,batch_size=1,shuffle=True)"
      ],
      "execution_count": 16,
      "outputs": []
    },
    {
      "cell_type": "code",
      "metadata": {
        "id": "roPBHhkE5cSX"
      },
      "source": [
        "class denoising_model(nn.Module):\n",
        "  def __init__(self):\n",
        "    super(denoising_model,self).__init__()\n",
        "    self.encoder=nn.Sequential(\n",
        "                  nn.Linear(28*28,256),\n",
        "                  nn.ReLU(True),\n",
        "                  nn.Linear(256,128),\n",
        "                  nn.ReLU(True),\n",
        "                  nn.Linear(128,64),\n",
        "                  nn.ReLU(True)\n",
        "        \n",
        "                  )\n",
        "    \n",
        "    self.decoder=nn.Sequential(\n",
        "                  nn.Linear(64,128),\n",
        "                  nn.ReLU(True),\n",
        "                  nn.Linear(128,256),\n",
        "                  nn.ReLU(True),\n",
        "                  nn.Linear(256,28*28),\n",
        "                  nn.Sigmoid(),\n",
        "                  )\n",
        "    \n",
        " \n",
        "  def forward(self,x):\n",
        "    x=self.encoder(x)\n",
        "    x=self.decoder(x)\n",
        "    \n",
        "    return x"
      ],
      "execution_count": 17,
      "outputs": []
    },
    {
      "cell_type": "code",
      "metadata": {
        "colab": {
          "base_uri": "https://localhost:8080/",
          "height": 0
        },
        "id": "PaTEIj9f5fQD",
        "outputId": "d61a91e1-2509-4d21-faf8-9b3d72878a17"
      },
      "source": [
        "if torch.cuda.is_available()==True:\n",
        "  device=\"cuda:0\"\n",
        "else:\n",
        "  device =\"cpu\"\n",
        "\n",
        "  \n",
        "model=denoising_model().to(device)\n",
        "criterion=nn.MSELoss()\n",
        "optimizer=optim.SGD(model.parameters(),lr=0.01,weight_decay=1e-5)\n",
        "\n",
        "\n",
        "epochs=120\n",
        "l=len(trainloader)\n",
        "losslist=list()\n",
        "epochloss=0\n",
        "running_loss=0\n",
        "for epoch in range(epochs):\n",
        "  \n",
        "  print(\"Entering Epoch: \",epoch)\n",
        "  for dirty,clean,label in tqdm((trainloader)):\n",
        "    \n",
        "    \n",
        "    dirty=dirty.view(dirty.size(0),-1).type(torch.FloatTensor)\n",
        "    clean=clean.view(clean.size(0),-1).type(torch.FloatTensor)\n",
        "    dirty,clean=dirty.to(device),clean.to(device)\n",
        "    \n",
        "    \n",
        "    \n",
        "    output=model(dirty)\n",
        "    loss=criterion(output,clean)\n",
        "    optimizer.zero_grad()\n",
        "    loss.backward()\n",
        "    optimizer.step()\n",
        "    \n",
        "    running_loss+=loss.item()\n",
        "    epochloss+=loss.item()\n",
        "  losslist.append(running_loss/l)\n",
        "  running_loss=0\n",
        "  print(\"======> epoch: {}/{}, Loss:{}\".format(epoch,epochs,loss.item()))\n"
      ],
      "execution_count": 18,
      "outputs": [
        {
          "output_type": "stream",
          "text": [
            "\r  0%|          | 0/1875 [00:00<?, ?it/s]"
          ],
          "name": "stderr"
        },
        {
          "output_type": "stream",
          "text": [
            "Entering Epoch:  0\n"
          ],
          "name": "stdout"
        },
        {
          "output_type": "stream",
          "text": [
            "100%|██████████| 1875/1875 [00:06<00:00, 299.66it/s]\n",
            "  2%|▏         | 31/1875 [00:00<00:06, 304.99it/s]"
          ],
          "name": "stderr"
        },
        {
          "output_type": "stream",
          "text": [
            "======> epoch: 0/120, Loss:0.08253780752420425\n",
            "Entering Epoch:  1\n"
          ],
          "name": "stdout"
        },
        {
          "output_type": "stream",
          "text": [
            "100%|██████████| 1875/1875 [00:06<00:00, 307.03it/s]\n",
            "  2%|▏         | 30/1875 [00:00<00:06, 299.27it/s]"
          ],
          "name": "stderr"
        },
        {
          "output_type": "stream",
          "text": [
            "======> epoch: 1/120, Loss:0.07443509995937347\n",
            "Entering Epoch:  2\n"
          ],
          "name": "stdout"
        },
        {
          "output_type": "stream",
          "text": [
            "100%|██████████| 1875/1875 [00:05<00:00, 315.18it/s]\n",
            "  2%|▏         | 31/1875 [00:00<00:06, 305.34it/s]"
          ],
          "name": "stderr"
        },
        {
          "output_type": "stream",
          "text": [
            "======> epoch: 2/120, Loss:0.06544748693704605\n",
            "Entering Epoch:  3\n"
          ],
          "name": "stdout"
        },
        {
          "output_type": "stream",
          "text": [
            "100%|██████████| 1875/1875 [00:06<00:00, 306.78it/s]\n",
            "  2%|▏         | 32/1875 [00:00<00:05, 312.00it/s]"
          ],
          "name": "stderr"
        },
        {
          "output_type": "stream",
          "text": [
            "======> epoch: 3/120, Loss:0.0633927509188652\n",
            "Entering Epoch:  4\n"
          ],
          "name": "stdout"
        },
        {
          "output_type": "stream",
          "text": [
            "100%|██████████| 1875/1875 [00:06<00:00, 310.19it/s]\n",
            "  2%|▏         | 31/1875 [00:00<00:06, 303.34it/s]"
          ],
          "name": "stderr"
        },
        {
          "output_type": "stream",
          "text": [
            "======> epoch: 4/120, Loss:0.06174468994140625\n",
            "Entering Epoch:  5\n"
          ],
          "name": "stdout"
        },
        {
          "output_type": "stream",
          "text": [
            "100%|██████████| 1875/1875 [00:06<00:00, 310.26it/s]\n",
            "  2%|▏         | 31/1875 [00:00<00:06, 303.01it/s]"
          ],
          "name": "stderr"
        },
        {
          "output_type": "stream",
          "text": [
            "======> epoch: 5/120, Loss:0.050993651151657104\n",
            "Entering Epoch:  6\n"
          ],
          "name": "stdout"
        },
        {
          "output_type": "stream",
          "text": [
            "100%|██████████| 1875/1875 [00:06<00:00, 307.19it/s]\n",
            "  2%|▏         | 31/1875 [00:00<00:06, 306.22it/s]"
          ],
          "name": "stderr"
        },
        {
          "output_type": "stream",
          "text": [
            "======> epoch: 6/120, Loss:0.054039787501096725\n",
            "Entering Epoch:  7\n"
          ],
          "name": "stdout"
        },
        {
          "output_type": "stream",
          "text": [
            "100%|██████████| 1875/1875 [00:06<00:00, 310.23it/s]\n",
            "  2%|▏         | 31/1875 [00:00<00:06, 304.67it/s]"
          ],
          "name": "stderr"
        },
        {
          "output_type": "stream",
          "text": [
            "======> epoch: 7/120, Loss:0.04653427377343178\n",
            "Entering Epoch:  8\n"
          ],
          "name": "stdout"
        },
        {
          "output_type": "stream",
          "text": [
            "100%|██████████| 1875/1875 [00:06<00:00, 308.35it/s]\n",
            "  2%|▏         | 33/1875 [00:00<00:05, 323.82it/s]"
          ],
          "name": "stderr"
        },
        {
          "output_type": "stream",
          "text": [
            "======> epoch: 8/120, Loss:0.04845762997865677\n",
            "Entering Epoch:  9\n"
          ],
          "name": "stdout"
        },
        {
          "output_type": "stream",
          "text": [
            "100%|██████████| 1875/1875 [00:06<00:00, 306.40it/s]\n",
            "  2%|▏         | 30/1875 [00:00<00:06, 299.37it/s]"
          ],
          "name": "stderr"
        },
        {
          "output_type": "stream",
          "text": [
            "======> epoch: 9/120, Loss:0.042364515364170074\n",
            "Entering Epoch:  10\n"
          ],
          "name": "stdout"
        },
        {
          "output_type": "stream",
          "text": [
            "100%|██████████| 1875/1875 [00:06<00:00, 306.81it/s]\n",
            "  1%|▏         | 27/1875 [00:00<00:06, 268.12it/s]"
          ],
          "name": "stderr"
        },
        {
          "output_type": "stream",
          "text": [
            "======> epoch: 10/120, Loss:0.04409638047218323\n",
            "Entering Epoch:  11\n"
          ],
          "name": "stdout"
        },
        {
          "output_type": "stream",
          "text": [
            "100%|██████████| 1875/1875 [00:06<00:00, 304.85it/s]\n",
            "  2%|▏         | 30/1875 [00:00<00:06, 299.66it/s]"
          ],
          "name": "stderr"
        },
        {
          "output_type": "stream",
          "text": [
            "======> epoch: 11/120, Loss:0.0428958497941494\n",
            "Entering Epoch:  12\n"
          ],
          "name": "stdout"
        },
        {
          "output_type": "stream",
          "text": [
            "100%|██████████| 1875/1875 [00:06<00:00, 303.26it/s]\n",
            "  2%|▏         | 32/1875 [00:00<00:05, 311.01it/s]"
          ],
          "name": "stderr"
        },
        {
          "output_type": "stream",
          "text": [
            "======> epoch: 12/120, Loss:0.04227667301893234\n",
            "Entering Epoch:  13\n"
          ],
          "name": "stdout"
        },
        {
          "output_type": "stream",
          "text": [
            "100%|██████████| 1875/1875 [00:06<00:00, 306.79it/s]\n",
            "  2%|▏         | 32/1875 [00:00<00:05, 311.23it/s]"
          ],
          "name": "stderr"
        },
        {
          "output_type": "stream",
          "text": [
            "======> epoch: 13/120, Loss:0.037617702037096024\n",
            "Entering Epoch:  14\n"
          ],
          "name": "stdout"
        },
        {
          "output_type": "stream",
          "text": [
            "100%|██████████| 1875/1875 [00:06<00:00, 306.57it/s]\n",
            "  2%|▏         | 31/1875 [00:00<00:06, 305.85it/s]"
          ],
          "name": "stderr"
        },
        {
          "output_type": "stream",
          "text": [
            "======> epoch: 14/120, Loss:0.03625728189945221\n",
            "Entering Epoch:  15\n"
          ],
          "name": "stdout"
        },
        {
          "output_type": "stream",
          "text": [
            "100%|██████████| 1875/1875 [00:06<00:00, 305.81it/s]\n",
            "  2%|▏         | 30/1875 [00:00<00:06, 294.73it/s]"
          ],
          "name": "stderr"
        },
        {
          "output_type": "stream",
          "text": [
            "======> epoch: 15/120, Loss:0.04022964462637901\n",
            "Entering Epoch:  16\n"
          ],
          "name": "stdout"
        },
        {
          "output_type": "stream",
          "text": [
            "100%|██████████| 1875/1875 [00:06<00:00, 306.42it/s]\n",
            "  2%|▏         | 32/1875 [00:00<00:05, 317.06it/s]"
          ],
          "name": "stderr"
        },
        {
          "output_type": "stream",
          "text": [
            "======> epoch: 16/120, Loss:0.04111188277602196\n",
            "Entering Epoch:  17\n"
          ],
          "name": "stdout"
        },
        {
          "output_type": "stream",
          "text": [
            "100%|██████████| 1875/1875 [00:06<00:00, 306.02it/s]\n",
            "  2%|▏         | 29/1875 [00:00<00:06, 285.30it/s]"
          ],
          "name": "stderr"
        },
        {
          "output_type": "stream",
          "text": [
            "======> epoch: 17/120, Loss:0.03662844002246857\n",
            "Entering Epoch:  18\n"
          ],
          "name": "stdout"
        },
        {
          "output_type": "stream",
          "text": [
            "100%|██████████| 1875/1875 [00:06<00:00, 304.32it/s]\n",
            "  2%|▏         | 31/1875 [00:00<00:06, 306.46it/s]"
          ],
          "name": "stderr"
        },
        {
          "output_type": "stream",
          "text": [
            "======> epoch: 18/120, Loss:0.03210599347949028\n",
            "Entering Epoch:  19\n"
          ],
          "name": "stdout"
        },
        {
          "output_type": "stream",
          "text": [
            "100%|██████████| 1875/1875 [00:06<00:00, 308.19it/s]\n",
            "  2%|▏         | 31/1875 [00:00<00:06, 302.82it/s]"
          ],
          "name": "stderr"
        },
        {
          "output_type": "stream",
          "text": [
            "======> epoch: 19/120, Loss:0.04103580862283707\n",
            "Entering Epoch:  20\n"
          ],
          "name": "stdout"
        },
        {
          "output_type": "stream",
          "text": [
            "100%|██████████| 1875/1875 [00:06<00:00, 306.74it/s]\n",
            "  2%|▏         | 31/1875 [00:00<00:06, 301.95it/s]"
          ],
          "name": "stderr"
        },
        {
          "output_type": "stream",
          "text": [
            "======> epoch: 20/120, Loss:0.041138116270303726\n",
            "Entering Epoch:  21\n"
          ],
          "name": "stdout"
        },
        {
          "output_type": "stream",
          "text": [
            "100%|██████████| 1875/1875 [00:06<00:00, 307.02it/s]\n",
            "  2%|▏         | 31/1875 [00:00<00:06, 303.81it/s]"
          ],
          "name": "stderr"
        },
        {
          "output_type": "stream",
          "text": [
            "======> epoch: 21/120, Loss:0.03375332057476044\n",
            "Entering Epoch:  22\n"
          ],
          "name": "stdout"
        },
        {
          "output_type": "stream",
          "text": [
            "100%|██████████| 1875/1875 [00:06<00:00, 306.10it/s]\n",
            "  2%|▏         | 29/1875 [00:00<00:06, 289.36it/s]"
          ],
          "name": "stderr"
        },
        {
          "output_type": "stream",
          "text": [
            "======> epoch: 22/120, Loss:0.034878842532634735\n",
            "Entering Epoch:  23\n"
          ],
          "name": "stdout"
        },
        {
          "output_type": "stream",
          "text": [
            "100%|██████████| 1875/1875 [00:06<00:00, 307.22it/s]\n",
            "  2%|▏         | 30/1875 [00:00<00:06, 291.50it/s]"
          ],
          "name": "stderr"
        },
        {
          "output_type": "stream",
          "text": [
            "======> epoch: 23/120, Loss:0.03523800149559975\n",
            "Entering Epoch:  24\n"
          ],
          "name": "stdout"
        },
        {
          "output_type": "stream",
          "text": [
            "100%|██████████| 1875/1875 [00:06<00:00, 307.71it/s]\n",
            "  2%|▏         | 32/1875 [00:00<00:05, 311.90it/s]"
          ],
          "name": "stderr"
        },
        {
          "output_type": "stream",
          "text": [
            "======> epoch: 24/120, Loss:0.03488479182124138\n",
            "Entering Epoch:  25\n"
          ],
          "name": "stdout"
        },
        {
          "output_type": "stream",
          "text": [
            "100%|██████████| 1875/1875 [00:06<00:00, 304.78it/s]\n",
            "  2%|▏         | 32/1875 [00:00<00:05, 318.20it/s]"
          ],
          "name": "stderr"
        },
        {
          "output_type": "stream",
          "text": [
            "======> epoch: 25/120, Loss:0.0344792865216732\n",
            "Entering Epoch:  26\n"
          ],
          "name": "stdout"
        },
        {
          "output_type": "stream",
          "text": [
            "100%|██████████| 1875/1875 [00:06<00:00, 302.50it/s]\n",
            "  2%|▏         | 29/1875 [00:00<00:06, 287.06it/s]"
          ],
          "name": "stderr"
        },
        {
          "output_type": "stream",
          "text": [
            "======> epoch: 26/120, Loss:0.036844927817583084\n",
            "Entering Epoch:  27\n"
          ],
          "name": "stdout"
        },
        {
          "output_type": "stream",
          "text": [
            "100%|██████████| 1875/1875 [00:06<00:00, 305.14it/s]\n",
            "  2%|▏         | 30/1875 [00:00<00:06, 297.82it/s]"
          ],
          "name": "stderr"
        },
        {
          "output_type": "stream",
          "text": [
            "======> epoch: 27/120, Loss:0.03172576054930687\n",
            "Entering Epoch:  28\n"
          ],
          "name": "stdout"
        },
        {
          "output_type": "stream",
          "text": [
            "100%|██████████| 1875/1875 [00:06<00:00, 308.26it/s]\n",
            "  2%|▏         | 31/1875 [00:00<00:06, 302.86it/s]"
          ],
          "name": "stderr"
        },
        {
          "output_type": "stream",
          "text": [
            "======> epoch: 28/120, Loss:0.032047152519226074\n",
            "Entering Epoch:  29\n"
          ],
          "name": "stdout"
        },
        {
          "output_type": "stream",
          "text": [
            "100%|██████████| 1875/1875 [00:06<00:00, 305.32it/s]\n",
            "  2%|▏         | 32/1875 [00:00<00:05, 315.84it/s]"
          ],
          "name": "stderr"
        },
        {
          "output_type": "stream",
          "text": [
            "======> epoch: 29/120, Loss:0.033200230449438095\n",
            "Entering Epoch:  30\n"
          ],
          "name": "stdout"
        },
        {
          "output_type": "stream",
          "text": [
            "100%|██████████| 1875/1875 [00:06<00:00, 303.40it/s]\n",
            "  2%|▏         | 30/1875 [00:00<00:06, 297.32it/s]"
          ],
          "name": "stderr"
        },
        {
          "output_type": "stream",
          "text": [
            "======> epoch: 30/120, Loss:0.03090544044971466\n",
            "Entering Epoch:  31\n"
          ],
          "name": "stdout"
        },
        {
          "output_type": "stream",
          "text": [
            "100%|██████████| 1875/1875 [00:06<00:00, 306.64it/s]\n",
            "  2%|▏         | 31/1875 [00:00<00:05, 309.40it/s]"
          ],
          "name": "stderr"
        },
        {
          "output_type": "stream",
          "text": [
            "======> epoch: 31/120, Loss:0.03216371312737465\n",
            "Entering Epoch:  32\n"
          ],
          "name": "stdout"
        },
        {
          "output_type": "stream",
          "text": [
            "100%|██████████| 1875/1875 [00:06<00:00, 305.35it/s]\n",
            "  2%|▏         | 32/1875 [00:00<00:06, 306.91it/s]"
          ],
          "name": "stderr"
        },
        {
          "output_type": "stream",
          "text": [
            "======> epoch: 32/120, Loss:0.028437813743948936\n",
            "Entering Epoch:  33\n"
          ],
          "name": "stdout"
        },
        {
          "output_type": "stream",
          "text": [
            "100%|██████████| 1875/1875 [00:06<00:00, 305.57it/s]\n",
            "  2%|▏         | 29/1875 [00:00<00:06, 286.25it/s]"
          ],
          "name": "stderr"
        },
        {
          "output_type": "stream",
          "text": [
            "======> epoch: 33/120, Loss:0.03390279784798622\n",
            "Entering Epoch:  34\n"
          ],
          "name": "stdout"
        },
        {
          "output_type": "stream",
          "text": [
            "100%|██████████| 1875/1875 [00:06<00:00, 305.37it/s]\n",
            "  2%|▏         | 31/1875 [00:00<00:05, 308.12it/s]"
          ],
          "name": "stderr"
        },
        {
          "output_type": "stream",
          "text": [
            "======> epoch: 34/120, Loss:0.03095398284494877\n",
            "Entering Epoch:  35\n"
          ],
          "name": "stdout"
        },
        {
          "output_type": "stream",
          "text": [
            "100%|██████████| 1875/1875 [00:06<00:00, 305.10it/s]\n",
            "  2%|▏         | 31/1875 [00:00<00:05, 307.45it/s]"
          ],
          "name": "stderr"
        },
        {
          "output_type": "stream",
          "text": [
            "======> epoch: 35/120, Loss:0.032500188797712326\n",
            "Entering Epoch:  36\n"
          ],
          "name": "stdout"
        },
        {
          "output_type": "stream",
          "text": [
            "100%|██████████| 1875/1875 [00:06<00:00, 305.90it/s]\n",
            "  2%|▏         | 32/1875 [00:00<00:05, 313.08it/s]"
          ],
          "name": "stderr"
        },
        {
          "output_type": "stream",
          "text": [
            "======> epoch: 36/120, Loss:0.031720053404569626\n",
            "Entering Epoch:  37\n"
          ],
          "name": "stdout"
        },
        {
          "output_type": "stream",
          "text": [
            "100%|██████████| 1875/1875 [00:06<00:00, 303.85it/s]\n",
            "  2%|▏         | 30/1875 [00:00<00:06, 296.41it/s]"
          ],
          "name": "stderr"
        },
        {
          "output_type": "stream",
          "text": [
            "======> epoch: 37/120, Loss:0.02807881496846676\n",
            "Entering Epoch:  38\n"
          ],
          "name": "stdout"
        },
        {
          "output_type": "stream",
          "text": [
            "100%|██████████| 1875/1875 [00:06<00:00, 305.88it/s]\n",
            "  2%|▏         | 31/1875 [00:00<00:06, 306.25it/s]"
          ],
          "name": "stderr"
        },
        {
          "output_type": "stream",
          "text": [
            "======> epoch: 38/120, Loss:0.030735399574041367\n",
            "Entering Epoch:  39\n"
          ],
          "name": "stdout"
        },
        {
          "output_type": "stream",
          "text": [
            "100%|██████████| 1875/1875 [00:06<00:00, 307.24it/s]\n",
            "  2%|▏         | 32/1875 [00:00<00:05, 314.38it/s]"
          ],
          "name": "stderr"
        },
        {
          "output_type": "stream",
          "text": [
            "======> epoch: 39/120, Loss:0.029323995113372803\n",
            "Entering Epoch:  40\n"
          ],
          "name": "stdout"
        },
        {
          "output_type": "stream",
          "text": [
            "100%|██████████| 1875/1875 [00:06<00:00, 305.19it/s]\n",
            "  2%|▏         | 30/1875 [00:00<00:06, 297.79it/s]"
          ],
          "name": "stderr"
        },
        {
          "output_type": "stream",
          "text": [
            "======> epoch: 40/120, Loss:0.031229909509420395\n",
            "Entering Epoch:  41\n"
          ],
          "name": "stdout"
        },
        {
          "output_type": "stream",
          "text": [
            "100%|██████████| 1875/1875 [00:06<00:00, 305.11it/s]\n",
            "  2%|▏         | 32/1875 [00:00<00:05, 316.12it/s]"
          ],
          "name": "stderr"
        },
        {
          "output_type": "stream",
          "text": [
            "======> epoch: 41/120, Loss:0.0285455621778965\n",
            "Entering Epoch:  42\n"
          ],
          "name": "stdout"
        },
        {
          "output_type": "stream",
          "text": [
            "100%|██████████| 1875/1875 [00:06<00:00, 303.34it/s]\n",
            "  2%|▏         | 29/1875 [00:00<00:06, 289.42it/s]"
          ],
          "name": "stderr"
        },
        {
          "output_type": "stream",
          "text": [
            "======> epoch: 42/120, Loss:0.0323258712887764\n",
            "Entering Epoch:  43\n"
          ],
          "name": "stdout"
        },
        {
          "output_type": "stream",
          "text": [
            "100%|██████████| 1875/1875 [00:06<00:00, 304.13it/s]\n",
            "  2%|▏         | 31/1875 [00:00<00:05, 309.63it/s]"
          ],
          "name": "stderr"
        },
        {
          "output_type": "stream",
          "text": [
            "======> epoch: 43/120, Loss:0.027443116530776024\n",
            "Entering Epoch:  44\n"
          ],
          "name": "stdout"
        },
        {
          "output_type": "stream",
          "text": [
            "100%|██████████| 1875/1875 [00:06<00:00, 306.03it/s]\n",
            "  2%|▏         | 29/1875 [00:00<00:06, 282.75it/s]"
          ],
          "name": "stderr"
        },
        {
          "output_type": "stream",
          "text": [
            "======> epoch: 44/120, Loss:0.027841921895742416\n",
            "Entering Epoch:  45\n"
          ],
          "name": "stdout"
        },
        {
          "output_type": "stream",
          "text": [
            "100%|██████████| 1875/1875 [00:06<00:00, 304.44it/s]\n",
            "  2%|▏         | 31/1875 [00:00<00:06, 303.44it/s]"
          ],
          "name": "stderr"
        },
        {
          "output_type": "stream",
          "text": [
            "======> epoch: 45/120, Loss:0.029778877273201942\n",
            "Entering Epoch:  46\n"
          ],
          "name": "stdout"
        },
        {
          "output_type": "stream",
          "text": [
            "100%|██████████| 1875/1875 [00:06<00:00, 303.54it/s]\n",
            "  2%|▏         | 30/1875 [00:00<00:06, 293.43it/s]"
          ],
          "name": "stderr"
        },
        {
          "output_type": "stream",
          "text": [
            "======> epoch: 46/120, Loss:0.03175364062190056\n",
            "Entering Epoch:  47\n"
          ],
          "name": "stdout"
        },
        {
          "output_type": "stream",
          "text": [
            "100%|██████████| 1875/1875 [00:06<00:00, 304.63it/s]\n",
            "  2%|▏         | 32/1875 [00:00<00:05, 313.82it/s]"
          ],
          "name": "stderr"
        },
        {
          "output_type": "stream",
          "text": [
            "======> epoch: 47/120, Loss:0.025942916050553322\n",
            "Entering Epoch:  48\n"
          ],
          "name": "stdout"
        },
        {
          "output_type": "stream",
          "text": [
            "100%|██████████| 1875/1875 [00:06<00:00, 305.57it/s]\n",
            "  2%|▏         | 31/1875 [00:00<00:06, 301.25it/s]"
          ],
          "name": "stderr"
        },
        {
          "output_type": "stream",
          "text": [
            "======> epoch: 48/120, Loss:0.026476480066776276\n",
            "Entering Epoch:  49\n"
          ],
          "name": "stdout"
        },
        {
          "output_type": "stream",
          "text": [
            "100%|██████████| 1875/1875 [00:06<00:00, 304.96it/s]\n",
            "  2%|▏         | 30/1875 [00:00<00:06, 299.22it/s]"
          ],
          "name": "stderr"
        },
        {
          "output_type": "stream",
          "text": [
            "======> epoch: 49/120, Loss:0.029586946591734886\n",
            "Entering Epoch:  50\n"
          ],
          "name": "stdout"
        },
        {
          "output_type": "stream",
          "text": [
            "100%|██████████| 1875/1875 [00:06<00:00, 303.82it/s]\n",
            "  1%|▏         | 28/1875 [00:00<00:06, 279.73it/s]"
          ],
          "name": "stderr"
        },
        {
          "output_type": "stream",
          "text": [
            "======> epoch: 50/120, Loss:0.028683388605713844\n",
            "Entering Epoch:  51\n"
          ],
          "name": "stdout"
        },
        {
          "output_type": "stream",
          "text": [
            "100%|██████████| 1875/1875 [00:06<00:00, 303.73it/s]\n",
            "  2%|▏         | 31/1875 [00:00<00:06, 307.24it/s]"
          ],
          "name": "stderr"
        },
        {
          "output_type": "stream",
          "text": [
            "======> epoch: 51/120, Loss:0.026483802124857903\n",
            "Entering Epoch:  52\n"
          ],
          "name": "stdout"
        },
        {
          "output_type": "stream",
          "text": [
            "100%|██████████| 1875/1875 [00:06<00:00, 305.00it/s]\n",
            "  2%|▏         | 29/1875 [00:00<00:06, 286.38it/s]"
          ],
          "name": "stderr"
        },
        {
          "output_type": "stream",
          "text": [
            "======> epoch: 52/120, Loss:0.025295402854681015\n",
            "Entering Epoch:  53\n"
          ],
          "name": "stdout"
        },
        {
          "output_type": "stream",
          "text": [
            "100%|██████████| 1875/1875 [00:06<00:00, 304.45it/s]\n",
            "  2%|▏         | 29/1875 [00:00<00:06, 288.26it/s]"
          ],
          "name": "stderr"
        },
        {
          "output_type": "stream",
          "text": [
            "======> epoch: 53/120, Loss:0.02659483253955841\n",
            "Entering Epoch:  54\n"
          ],
          "name": "stdout"
        },
        {
          "output_type": "stream",
          "text": [
            "100%|██████████| 1875/1875 [00:06<00:00, 303.15it/s]\n",
            "  1%|▏         | 28/1875 [00:00<00:06, 271.78it/s]"
          ],
          "name": "stderr"
        },
        {
          "output_type": "stream",
          "text": [
            "======> epoch: 54/120, Loss:0.026981713250279427\n",
            "Entering Epoch:  55\n"
          ],
          "name": "stdout"
        },
        {
          "output_type": "stream",
          "text": [
            "100%|██████████| 1875/1875 [00:06<00:00, 304.50it/s]\n",
            "  2%|▏         | 30/1875 [00:00<00:06, 291.78it/s]"
          ],
          "name": "stderr"
        },
        {
          "output_type": "stream",
          "text": [
            "======> epoch: 55/120, Loss:0.026698390021920204\n",
            "Entering Epoch:  56\n"
          ],
          "name": "stdout"
        },
        {
          "output_type": "stream",
          "text": [
            "100%|██████████| 1875/1875 [00:06<00:00, 302.95it/s]\n",
            "  2%|▏         | 29/1875 [00:00<00:06, 283.99it/s]"
          ],
          "name": "stderr"
        },
        {
          "output_type": "stream",
          "text": [
            "======> epoch: 56/120, Loss:0.0220845565199852\n",
            "Entering Epoch:  57\n"
          ],
          "name": "stdout"
        },
        {
          "output_type": "stream",
          "text": [
            "100%|██████████| 1875/1875 [00:06<00:00, 303.92it/s]\n",
            "  2%|▏         | 32/1875 [00:00<00:05, 312.61it/s]"
          ],
          "name": "stderr"
        },
        {
          "output_type": "stream",
          "text": [
            "======> epoch: 57/120, Loss:0.02375177852809429\n",
            "Entering Epoch:  58\n"
          ],
          "name": "stdout"
        },
        {
          "output_type": "stream",
          "text": [
            "100%|██████████| 1875/1875 [00:06<00:00, 305.65it/s]\n",
            "  2%|▏         | 30/1875 [00:00<00:06, 298.63it/s]"
          ],
          "name": "stderr"
        },
        {
          "output_type": "stream",
          "text": [
            "======> epoch: 58/120, Loss:0.03163142129778862\n",
            "Entering Epoch:  59\n"
          ],
          "name": "stdout"
        },
        {
          "output_type": "stream",
          "text": [
            "100%|██████████| 1875/1875 [00:06<00:00, 303.27it/s]\n",
            "  2%|▏         | 32/1875 [00:00<00:05, 314.60it/s]"
          ],
          "name": "stderr"
        },
        {
          "output_type": "stream",
          "text": [
            "======> epoch: 59/120, Loss:0.029116332530975342\n",
            "Entering Epoch:  60\n"
          ],
          "name": "stdout"
        },
        {
          "output_type": "stream",
          "text": [
            "100%|██████████| 1875/1875 [00:06<00:00, 303.86it/s]\n",
            "  1%|▏         | 27/1875 [00:00<00:06, 266.40it/s]"
          ],
          "name": "stderr"
        },
        {
          "output_type": "stream",
          "text": [
            "======> epoch: 60/120, Loss:0.02458348497748375\n",
            "Entering Epoch:  61\n"
          ],
          "name": "stdout"
        },
        {
          "output_type": "stream",
          "text": [
            "100%|██████████| 1875/1875 [00:06<00:00, 303.86it/s]\n",
            "  2%|▏         | 31/1875 [00:00<00:06, 301.59it/s]"
          ],
          "name": "stderr"
        },
        {
          "output_type": "stream",
          "text": [
            "======> epoch: 61/120, Loss:0.023830052465200424\n",
            "Entering Epoch:  62\n"
          ],
          "name": "stdout"
        },
        {
          "output_type": "stream",
          "text": [
            "100%|██████████| 1875/1875 [00:06<00:00, 303.26it/s]\n",
            "  1%|▏         | 27/1875 [00:00<00:06, 268.15it/s]"
          ],
          "name": "stderr"
        },
        {
          "output_type": "stream",
          "text": [
            "======> epoch: 62/120, Loss:0.025891777127981186\n",
            "Entering Epoch:  63\n"
          ],
          "name": "stdout"
        },
        {
          "output_type": "stream",
          "text": [
            "100%|██████████| 1875/1875 [00:06<00:00, 303.31it/s]\n",
            "  2%|▏         | 30/1875 [00:00<00:06, 298.72it/s]"
          ],
          "name": "stderr"
        },
        {
          "output_type": "stream",
          "text": [
            "======> epoch: 63/120, Loss:0.02943028137087822\n",
            "Entering Epoch:  64\n"
          ],
          "name": "stdout"
        },
        {
          "output_type": "stream",
          "text": [
            "100%|██████████| 1875/1875 [00:06<00:00, 303.32it/s]\n",
            "  2%|▏         | 31/1875 [00:00<00:06, 302.51it/s]"
          ],
          "name": "stderr"
        },
        {
          "output_type": "stream",
          "text": [
            "======> epoch: 64/120, Loss:0.022723492234945297\n",
            "Entering Epoch:  65\n"
          ],
          "name": "stdout"
        },
        {
          "output_type": "stream",
          "text": [
            "100%|██████████| 1875/1875 [00:06<00:00, 301.83it/s]\n",
            "  2%|▏         | 29/1875 [00:00<00:06, 285.40it/s]"
          ],
          "name": "stderr"
        },
        {
          "output_type": "stream",
          "text": [
            "======> epoch: 65/120, Loss:0.028977850452065468\n",
            "Entering Epoch:  66\n"
          ],
          "name": "stdout"
        },
        {
          "output_type": "stream",
          "text": [
            "100%|██████████| 1875/1875 [00:06<00:00, 303.39it/s]\n",
            "  2%|▏         | 31/1875 [00:00<00:06, 307.03it/s]"
          ],
          "name": "stderr"
        },
        {
          "output_type": "stream",
          "text": [
            "======> epoch: 66/120, Loss:0.024652263149619102\n",
            "Entering Epoch:  67\n"
          ],
          "name": "stdout"
        },
        {
          "output_type": "stream",
          "text": [
            "100%|██████████| 1875/1875 [00:06<00:00, 301.52it/s]\n",
            "  1%|▏         | 25/1875 [00:00<00:07, 246.72it/s]"
          ],
          "name": "stderr"
        },
        {
          "output_type": "stream",
          "text": [
            "======> epoch: 67/120, Loss:0.02522115781903267\n",
            "Entering Epoch:  68\n"
          ],
          "name": "stdout"
        },
        {
          "output_type": "stream",
          "text": [
            "100%|██████████| 1875/1875 [00:06<00:00, 303.75it/s]\n",
            "  2%|▏         | 30/1875 [00:00<00:06, 293.16it/s]"
          ],
          "name": "stderr"
        },
        {
          "output_type": "stream",
          "text": [
            "======> epoch: 68/120, Loss:0.023879794403910637\n",
            "Entering Epoch:  69\n"
          ],
          "name": "stdout"
        },
        {
          "output_type": "stream",
          "text": [
            "100%|██████████| 1875/1875 [00:06<00:00, 303.34it/s]\n",
            "  2%|▏         | 31/1875 [00:00<00:05, 307.38it/s]"
          ],
          "name": "stderr"
        },
        {
          "output_type": "stream",
          "text": [
            "======> epoch: 69/120, Loss:0.026007575914263725\n",
            "Entering Epoch:  70\n"
          ],
          "name": "stdout"
        },
        {
          "output_type": "stream",
          "text": [
            "100%|██████████| 1875/1875 [00:06<00:00, 304.80it/s]\n",
            "  2%|▏         | 31/1875 [00:00<00:06, 307.21it/s]"
          ],
          "name": "stderr"
        },
        {
          "output_type": "stream",
          "text": [
            "======> epoch: 70/120, Loss:0.02524811401963234\n",
            "Entering Epoch:  71\n"
          ],
          "name": "stdout"
        },
        {
          "output_type": "stream",
          "text": [
            "100%|██████████| 1875/1875 [00:06<00:00, 301.40it/s]\n",
            "  2%|▏         | 29/1875 [00:00<00:06, 287.91it/s]"
          ],
          "name": "stderr"
        },
        {
          "output_type": "stream",
          "text": [
            "======> epoch: 71/120, Loss:0.02531583234667778\n",
            "Entering Epoch:  72\n"
          ],
          "name": "stdout"
        },
        {
          "output_type": "stream",
          "text": [
            "100%|██████████| 1875/1875 [00:06<00:00, 303.29it/s]\n",
            "  2%|▏         | 30/1875 [00:00<00:06, 292.83it/s]"
          ],
          "name": "stderr"
        },
        {
          "output_type": "stream",
          "text": [
            "======> epoch: 72/120, Loss:0.02647833339869976\n",
            "Entering Epoch:  73\n"
          ],
          "name": "stdout"
        },
        {
          "output_type": "stream",
          "text": [
            "100%|██████████| 1875/1875 [00:06<00:00, 303.85it/s]\n",
            "  2%|▏         | 31/1875 [00:00<00:06, 307.16it/s]"
          ],
          "name": "stderr"
        },
        {
          "output_type": "stream",
          "text": [
            "======> epoch: 73/120, Loss:0.026151660829782486\n",
            "Entering Epoch:  74\n"
          ],
          "name": "stdout"
        },
        {
          "output_type": "stream",
          "text": [
            "100%|██████████| 1875/1875 [00:06<00:00, 302.94it/s]\n",
            "  1%|▏         | 26/1875 [00:00<00:07, 259.54it/s]"
          ],
          "name": "stderr"
        },
        {
          "output_type": "stream",
          "text": [
            "======> epoch: 74/120, Loss:0.02220565639436245\n",
            "Entering Epoch:  75\n"
          ],
          "name": "stdout"
        },
        {
          "output_type": "stream",
          "text": [
            "100%|██████████| 1875/1875 [00:06<00:00, 298.78it/s]\n",
            "  1%|▏         | 28/1875 [00:00<00:06, 278.75it/s]"
          ],
          "name": "stderr"
        },
        {
          "output_type": "stream",
          "text": [
            "======> epoch: 75/120, Loss:0.02576724998652935\n",
            "Entering Epoch:  76\n"
          ],
          "name": "stdout"
        },
        {
          "output_type": "stream",
          "text": [
            "100%|██████████| 1875/1875 [00:06<00:00, 296.94it/s]\n",
            "  2%|▏         | 29/1875 [00:00<00:06, 280.55it/s]"
          ],
          "name": "stderr"
        },
        {
          "output_type": "stream",
          "text": [
            "======> epoch: 76/120, Loss:0.027739889919757843\n",
            "Entering Epoch:  77\n"
          ],
          "name": "stdout"
        },
        {
          "output_type": "stream",
          "text": [
            "100%|██████████| 1875/1875 [00:06<00:00, 300.80it/s]\n",
            "  2%|▏         | 30/1875 [00:00<00:06, 292.76it/s]"
          ],
          "name": "stderr"
        },
        {
          "output_type": "stream",
          "text": [
            "======> epoch: 77/120, Loss:0.0225584264844656\n",
            "Entering Epoch:  78\n"
          ],
          "name": "stdout"
        },
        {
          "output_type": "stream",
          "text": [
            "100%|██████████| 1875/1875 [00:06<00:00, 302.10it/s]\n",
            "  2%|▏         | 31/1875 [00:00<00:06, 303.42it/s]"
          ],
          "name": "stderr"
        },
        {
          "output_type": "stream",
          "text": [
            "======> epoch: 78/120, Loss:0.02301095426082611\n",
            "Entering Epoch:  79\n"
          ],
          "name": "stdout"
        },
        {
          "output_type": "stream",
          "text": [
            "100%|██████████| 1875/1875 [00:06<00:00, 300.85it/s]\n",
            "  2%|▏         | 30/1875 [00:00<00:06, 296.32it/s]"
          ],
          "name": "stderr"
        },
        {
          "output_type": "stream",
          "text": [
            "======> epoch: 79/120, Loss:0.027364173904061317\n",
            "Entering Epoch:  80\n"
          ],
          "name": "stdout"
        },
        {
          "output_type": "stream",
          "text": [
            "100%|██████████| 1875/1875 [00:06<00:00, 302.92it/s]\n",
            "  2%|▏         | 31/1875 [00:00<00:05, 308.50it/s]"
          ],
          "name": "stderr"
        },
        {
          "output_type": "stream",
          "text": [
            "======> epoch: 80/120, Loss:0.026919718831777573\n",
            "Entering Epoch:  81\n"
          ],
          "name": "stdout"
        },
        {
          "output_type": "stream",
          "text": [
            "100%|██████████| 1875/1875 [00:06<00:00, 300.18it/s]\n",
            "  2%|▏         | 29/1875 [00:00<00:06, 284.63it/s]"
          ],
          "name": "stderr"
        },
        {
          "output_type": "stream",
          "text": [
            "======> epoch: 81/120, Loss:0.022935453802347183\n",
            "Entering Epoch:  82\n"
          ],
          "name": "stdout"
        },
        {
          "output_type": "stream",
          "text": [
            "100%|██████████| 1875/1875 [00:06<00:00, 301.51it/s]\n",
            "  2%|▏         | 30/1875 [00:00<00:06, 291.48it/s]"
          ],
          "name": "stderr"
        },
        {
          "output_type": "stream",
          "text": [
            "======> epoch: 82/120, Loss:0.02374233491718769\n",
            "Entering Epoch:  83\n"
          ],
          "name": "stdout"
        },
        {
          "output_type": "stream",
          "text": [
            "100%|██████████| 1875/1875 [00:06<00:00, 303.95it/s]\n",
            "  2%|▏         | 30/1875 [00:00<00:06, 293.29it/s]"
          ],
          "name": "stderr"
        },
        {
          "output_type": "stream",
          "text": [
            "======> epoch: 83/120, Loss:0.02601674012839794\n",
            "Entering Epoch:  84\n"
          ],
          "name": "stdout"
        },
        {
          "output_type": "stream",
          "text": [
            "100%|██████████| 1875/1875 [00:06<00:00, 300.56it/s]\n",
            "  2%|▏         | 31/1875 [00:00<00:06, 305.06it/s]"
          ],
          "name": "stderr"
        },
        {
          "output_type": "stream",
          "text": [
            "======> epoch: 84/120, Loss:0.02545558288693428\n",
            "Entering Epoch:  85\n"
          ],
          "name": "stdout"
        },
        {
          "output_type": "stream",
          "text": [
            "100%|██████████| 1875/1875 [00:06<00:00, 300.79it/s]\n",
            "  2%|▏         | 29/1875 [00:00<00:06, 285.07it/s]"
          ],
          "name": "stderr"
        },
        {
          "output_type": "stream",
          "text": [
            "======> epoch: 85/120, Loss:0.02435336448252201\n",
            "Entering Epoch:  86\n"
          ],
          "name": "stdout"
        },
        {
          "output_type": "stream",
          "text": [
            "100%|██████████| 1875/1875 [00:06<00:00, 299.22it/s]\n",
            "  2%|▏         | 31/1875 [00:00<00:06, 307.19it/s]"
          ],
          "name": "stderr"
        },
        {
          "output_type": "stream",
          "text": [
            "======> epoch: 86/120, Loss:0.024665268138051033\n",
            "Entering Epoch:  87\n"
          ],
          "name": "stdout"
        },
        {
          "output_type": "stream",
          "text": [
            "100%|██████████| 1875/1875 [00:06<00:00, 301.93it/s]\n",
            "  2%|▏         | 31/1875 [00:00<00:06, 301.38it/s]"
          ],
          "name": "stderr"
        },
        {
          "output_type": "stream",
          "text": [
            "======> epoch: 87/120, Loss:0.024280594661831856\n",
            "Entering Epoch:  88\n"
          ],
          "name": "stdout"
        },
        {
          "output_type": "stream",
          "text": [
            "100%|██████████| 1875/1875 [00:06<00:00, 300.21it/s]\n",
            "  2%|▏         | 32/1875 [00:00<00:05, 312.62it/s]"
          ],
          "name": "stderr"
        },
        {
          "output_type": "stream",
          "text": [
            "======> epoch: 88/120, Loss:0.02217320166528225\n",
            "Entering Epoch:  89\n"
          ],
          "name": "stdout"
        },
        {
          "output_type": "stream",
          "text": [
            "100%|██████████| 1875/1875 [00:06<00:00, 302.42it/s]\n",
            "  1%|▏         | 28/1875 [00:00<00:06, 275.60it/s]"
          ],
          "name": "stderr"
        },
        {
          "output_type": "stream",
          "text": [
            "======> epoch: 89/120, Loss:0.02366725727915764\n",
            "Entering Epoch:  90\n"
          ],
          "name": "stdout"
        },
        {
          "output_type": "stream",
          "text": [
            "100%|██████████| 1875/1875 [00:06<00:00, 301.89it/s]\n",
            "  2%|▏         | 30/1875 [00:00<00:06, 299.00it/s]"
          ],
          "name": "stderr"
        },
        {
          "output_type": "stream",
          "text": [
            "======> epoch: 90/120, Loss:0.021197186782956123\n",
            "Entering Epoch:  91\n"
          ],
          "name": "stdout"
        },
        {
          "output_type": "stream",
          "text": [
            "100%|██████████| 1875/1875 [00:06<00:00, 298.92it/s]\n",
            "  2%|▏         | 31/1875 [00:00<00:05, 309.98it/s]"
          ],
          "name": "stderr"
        },
        {
          "output_type": "stream",
          "text": [
            "======> epoch: 91/120, Loss:0.023715058341622353\n",
            "Entering Epoch:  92\n"
          ],
          "name": "stdout"
        },
        {
          "output_type": "stream",
          "text": [
            "100%|██████████| 1875/1875 [00:06<00:00, 300.91it/s]\n",
            "  1%|▏         | 28/1875 [00:00<00:06, 273.10it/s]"
          ],
          "name": "stderr"
        },
        {
          "output_type": "stream",
          "text": [
            "======> epoch: 92/120, Loss:0.02373599261045456\n",
            "Entering Epoch:  93\n"
          ],
          "name": "stdout"
        },
        {
          "output_type": "stream",
          "text": [
            "100%|██████████| 1875/1875 [00:06<00:00, 299.94it/s]\n",
            "  1%|▏         | 28/1875 [00:00<00:06, 277.92it/s]"
          ],
          "name": "stderr"
        },
        {
          "output_type": "stream",
          "text": [
            "======> epoch: 93/120, Loss:0.024306412786245346\n",
            "Entering Epoch:  94\n"
          ],
          "name": "stdout"
        },
        {
          "output_type": "stream",
          "text": [
            "100%|██████████| 1875/1875 [00:06<00:00, 299.81it/s]\n",
            "  1%|▏         | 24/1875 [00:00<00:07, 234.28it/s]"
          ],
          "name": "stderr"
        },
        {
          "output_type": "stream",
          "text": [
            "======> epoch: 94/120, Loss:0.03183601796627045\n",
            "Entering Epoch:  95\n"
          ],
          "name": "stdout"
        },
        {
          "output_type": "stream",
          "text": [
            "100%|██████████| 1875/1875 [00:06<00:00, 301.09it/s]\n",
            "  1%|▏         | 28/1875 [00:00<00:06, 276.38it/s]"
          ],
          "name": "stderr"
        },
        {
          "output_type": "stream",
          "text": [
            "======> epoch: 95/120, Loss:0.023606689646840096\n",
            "Entering Epoch:  96\n"
          ],
          "name": "stdout"
        },
        {
          "output_type": "stream",
          "text": [
            "100%|██████████| 1875/1875 [00:06<00:00, 302.56it/s]\n",
            "  2%|▏         | 30/1875 [00:00<00:06, 296.41it/s]"
          ],
          "name": "stderr"
        },
        {
          "output_type": "stream",
          "text": [
            "======> epoch: 96/120, Loss:0.02151080034673214\n",
            "Entering Epoch:  97\n"
          ],
          "name": "stdout"
        },
        {
          "output_type": "stream",
          "text": [
            "100%|██████████| 1875/1875 [00:06<00:00, 303.56it/s]\n",
            "  2%|▏         | 32/1875 [00:00<00:05, 319.97it/s]"
          ],
          "name": "stderr"
        },
        {
          "output_type": "stream",
          "text": [
            "======> epoch: 97/120, Loss:0.022215206176042557\n",
            "Entering Epoch:  98\n"
          ],
          "name": "stdout"
        },
        {
          "output_type": "stream",
          "text": [
            "100%|██████████| 1875/1875 [00:06<00:00, 300.19it/s]\n",
            "  2%|▏         | 31/1875 [00:00<00:06, 306.28it/s]"
          ],
          "name": "stderr"
        },
        {
          "output_type": "stream",
          "text": [
            "======> epoch: 98/120, Loss:0.024878336116671562\n",
            "Entering Epoch:  99\n"
          ],
          "name": "stdout"
        },
        {
          "output_type": "stream",
          "text": [
            "100%|██████████| 1875/1875 [00:06<00:00, 300.12it/s]\n",
            "  1%|▏         | 28/1875 [00:00<00:06, 279.07it/s]"
          ],
          "name": "stderr"
        },
        {
          "output_type": "stream",
          "text": [
            "======> epoch: 99/120, Loss:0.021299736574292183\n",
            "Entering Epoch:  100\n"
          ],
          "name": "stdout"
        },
        {
          "output_type": "stream",
          "text": [
            "100%|██████████| 1875/1875 [00:06<00:00, 300.01it/s]\n",
            "  2%|▏         | 29/1875 [00:00<00:06, 284.97it/s]"
          ],
          "name": "stderr"
        },
        {
          "output_type": "stream",
          "text": [
            "======> epoch: 100/120, Loss:0.024448420852422714\n",
            "Entering Epoch:  101\n"
          ],
          "name": "stdout"
        },
        {
          "output_type": "stream",
          "text": [
            "100%|██████████| 1875/1875 [00:06<00:00, 298.87it/s]\n",
            "  2%|▏         | 29/1875 [00:00<00:06, 282.31it/s]"
          ],
          "name": "stderr"
        },
        {
          "output_type": "stream",
          "text": [
            "======> epoch: 101/120, Loss:0.01998876966536045\n",
            "Entering Epoch:  102\n"
          ],
          "name": "stdout"
        },
        {
          "output_type": "stream",
          "text": [
            "100%|██████████| 1875/1875 [00:06<00:00, 301.62it/s]\n",
            "  2%|▏         | 31/1875 [00:00<00:05, 308.35it/s]"
          ],
          "name": "stderr"
        },
        {
          "output_type": "stream",
          "text": [
            "======> epoch: 102/120, Loss:0.022247785702347755\n",
            "Entering Epoch:  103\n"
          ],
          "name": "stdout"
        },
        {
          "output_type": "stream",
          "text": [
            "100%|██████████| 1875/1875 [00:06<00:00, 301.75it/s]\n",
            "  2%|▏         | 30/1875 [00:00<00:06, 297.64it/s]"
          ],
          "name": "stderr"
        },
        {
          "output_type": "stream",
          "text": [
            "======> epoch: 103/120, Loss:0.022880442440509796\n",
            "Entering Epoch:  104\n"
          ],
          "name": "stdout"
        },
        {
          "output_type": "stream",
          "text": [
            "100%|██████████| 1875/1875 [00:06<00:00, 301.46it/s]\n",
            "  2%|▏         | 30/1875 [00:00<00:06, 297.09it/s]"
          ],
          "name": "stderr"
        },
        {
          "output_type": "stream",
          "text": [
            "======> epoch: 104/120, Loss:0.026972925290465355\n",
            "Entering Epoch:  105\n"
          ],
          "name": "stdout"
        },
        {
          "output_type": "stream",
          "text": [
            "100%|██████████| 1875/1875 [00:06<00:00, 299.76it/s]\n",
            "  2%|▏         | 31/1875 [00:00<00:06, 305.60it/s]"
          ],
          "name": "stderr"
        },
        {
          "output_type": "stream",
          "text": [
            "======> epoch: 105/120, Loss:0.0206587016582489\n",
            "Entering Epoch:  106\n"
          ],
          "name": "stdout"
        },
        {
          "output_type": "stream",
          "text": [
            "100%|██████████| 1875/1875 [00:06<00:00, 294.43it/s]\n",
            "  2%|▏         | 29/1875 [00:00<00:06, 280.64it/s]"
          ],
          "name": "stderr"
        },
        {
          "output_type": "stream",
          "text": [
            "======> epoch: 106/120, Loss:0.019807040691375732\n",
            "Entering Epoch:  107\n"
          ],
          "name": "stdout"
        },
        {
          "output_type": "stream",
          "text": [
            "100%|██████████| 1875/1875 [00:06<00:00, 300.17it/s]\n",
            "  2%|▏         | 31/1875 [00:00<00:06, 303.59it/s]"
          ],
          "name": "stderr"
        },
        {
          "output_type": "stream",
          "text": [
            "======> epoch: 107/120, Loss:0.02419801987707615\n",
            "Entering Epoch:  108\n"
          ],
          "name": "stdout"
        },
        {
          "output_type": "stream",
          "text": [
            "100%|██████████| 1875/1875 [00:06<00:00, 299.96it/s]\n",
            "  2%|▏         | 31/1875 [00:00<00:06, 301.05it/s]"
          ],
          "name": "stderr"
        },
        {
          "output_type": "stream",
          "text": [
            "======> epoch: 108/120, Loss:0.023745957762002945\n",
            "Entering Epoch:  109\n"
          ],
          "name": "stdout"
        },
        {
          "output_type": "stream",
          "text": [
            "100%|██████████| 1875/1875 [00:06<00:00, 303.11it/s]\n",
            "  2%|▏         | 29/1875 [00:00<00:06, 289.29it/s]"
          ],
          "name": "stderr"
        },
        {
          "output_type": "stream",
          "text": [
            "======> epoch: 109/120, Loss:0.02088838256895542\n",
            "Entering Epoch:  110\n"
          ],
          "name": "stdout"
        },
        {
          "output_type": "stream",
          "text": [
            "100%|██████████| 1875/1875 [00:06<00:00, 301.67it/s]\n",
            "  2%|▏         | 29/1875 [00:00<00:06, 287.84it/s]"
          ],
          "name": "stderr"
        },
        {
          "output_type": "stream",
          "text": [
            "======> epoch: 110/120, Loss:0.01886858232319355\n",
            "Entering Epoch:  111\n"
          ],
          "name": "stdout"
        },
        {
          "output_type": "stream",
          "text": [
            "100%|██████████| 1875/1875 [00:06<00:00, 302.02it/s]\n",
            "  1%|▏         | 27/1875 [00:00<00:06, 268.71it/s]"
          ],
          "name": "stderr"
        },
        {
          "output_type": "stream",
          "text": [
            "======> epoch: 111/120, Loss:0.02139035426080227\n",
            "Entering Epoch:  112\n"
          ],
          "name": "stdout"
        },
        {
          "output_type": "stream",
          "text": [
            "100%|██████████| 1875/1875 [00:06<00:00, 299.97it/s]\n",
            "  1%|▏         | 28/1875 [00:00<00:06, 279.02it/s]"
          ],
          "name": "stderr"
        },
        {
          "output_type": "stream",
          "text": [
            "======> epoch: 112/120, Loss:0.0227244533598423\n",
            "Entering Epoch:  113\n"
          ],
          "name": "stdout"
        },
        {
          "output_type": "stream",
          "text": [
            "100%|██████████| 1875/1875 [00:06<00:00, 298.58it/s]\n",
            "  1%|▏         | 28/1875 [00:00<00:06, 274.94it/s]"
          ],
          "name": "stderr"
        },
        {
          "output_type": "stream",
          "text": [
            "======> epoch: 113/120, Loss:0.021190429106354713\n",
            "Entering Epoch:  114\n"
          ],
          "name": "stdout"
        },
        {
          "output_type": "stream",
          "text": [
            "100%|██████████| 1875/1875 [00:06<00:00, 303.14it/s]\n",
            "  2%|▏         | 30/1875 [00:00<00:06, 294.23it/s]"
          ],
          "name": "stderr"
        },
        {
          "output_type": "stream",
          "text": [
            "======> epoch: 114/120, Loss:0.021681729704141617\n",
            "Entering Epoch:  115\n"
          ],
          "name": "stdout"
        },
        {
          "output_type": "stream",
          "text": [
            "100%|██████████| 1875/1875 [00:06<00:00, 300.49it/s]\n",
            "  2%|▏         | 30/1875 [00:00<00:06, 297.72it/s]"
          ],
          "name": "stderr"
        },
        {
          "output_type": "stream",
          "text": [
            "======> epoch: 115/120, Loss:0.02354973554611206\n",
            "Entering Epoch:  116\n"
          ],
          "name": "stdout"
        },
        {
          "output_type": "stream",
          "text": [
            "100%|██████████| 1875/1875 [00:06<00:00, 298.23it/s]\n",
            "  2%|▏         | 31/1875 [00:00<00:06, 304.01it/s]"
          ],
          "name": "stderr"
        },
        {
          "output_type": "stream",
          "text": [
            "======> epoch: 116/120, Loss:0.017824895679950714\n",
            "Entering Epoch:  117\n"
          ],
          "name": "stdout"
        },
        {
          "output_type": "stream",
          "text": [
            "100%|██████████| 1875/1875 [00:06<00:00, 302.03it/s]\n",
            "  2%|▏         | 29/1875 [00:00<00:06, 283.93it/s]"
          ],
          "name": "stderr"
        },
        {
          "output_type": "stream",
          "text": [
            "======> epoch: 117/120, Loss:0.02134724333882332\n",
            "Entering Epoch:  118\n"
          ],
          "name": "stdout"
        },
        {
          "output_type": "stream",
          "text": [
            "100%|██████████| 1875/1875 [00:06<00:00, 298.65it/s]\n",
            "  2%|▏         | 30/1875 [00:00<00:06, 299.16it/s]"
          ],
          "name": "stderr"
        },
        {
          "output_type": "stream",
          "text": [
            "======> epoch: 118/120, Loss:0.02087916061282158\n",
            "Entering Epoch:  119\n"
          ],
          "name": "stdout"
        },
        {
          "output_type": "stream",
          "text": [
            "100%|██████████| 1875/1875 [00:06<00:00, 299.68it/s]"
          ],
          "name": "stderr"
        },
        {
          "output_type": "stream",
          "text": [
            "======> epoch: 119/120, Loss:0.02343713492155075\n"
          ],
          "name": "stdout"
        },
        {
          "output_type": "stream",
          "text": [
            "\n"
          ],
          "name": "stderr"
        }
      ]
    },
    {
      "cell_type": "code",
      "metadata": {
        "colab": {
          "base_uri": "https://localhost:8080/",
          "height": 282
        },
        "id": "o2aVRHhX5jU7",
        "outputId": "76266ef9-fb9e-46d2-a6b9-6e901e41ae66"
      },
      "source": [
        "plt.plot(range(len(losslist)),losslist)"
      ],
      "execution_count": 19,
      "outputs": [
        {
          "output_type": "execute_result",
          "data": {
            "text/plain": [
              "[<matplotlib.lines.Line2D at 0x7f38e57543d0>]"
            ]
          },
          "metadata": {
            "tags": []
          },
          "execution_count": 19
        },
        {
          "output_type": "display_data",
          "data": {
            "image/png": "[encoded data removed]",
            "text/plain": [
              "<Figure size 432x288 with 1 Axes>"
            ]
          },
          "metadata": {
            "tags": [],
            "needs_background": "light"
          }
        }
      ]
    },
    {
      "cell_type": "code",
      "metadata": {
        "colab": {
          "base_uri": "https://localhost:8080/",
          "height": 1151
        },
        "id": "ZeqVkM0T564p",
        "outputId": "ca2fd58f-1e16-4a14-d4e0-19446204d933"
      },
      "source": [
        "f,axes= plt.subplots(6,3,figsize=(20,20))\n",
        "axes[0,0].set_title(\"Original Image\")\n",
        "axes[0,1].set_title(\"Dirty Image\")\n",
        "axes[0,2].set_title(\"Cleaned Image\")\n",
        "\n",
        "test_imgs=np.random.randint(0,10000,size=6)\n",
        "for idx in range((6)):\n",
        "  dirty=testset[test_imgs[idx]][0]\n",
        "  clean=testset[test_imgs[idx]][1]\n",
        "  label=testset[test_imgs[idx]][2]\n",
        "  dirty=dirty.view(dirty.size(0),-1).type(torch.FloatTensor)\n",
        "  dirty=dirty.to(device)\n",
        "  output=model(dirty)\n",
        "  \n",
        "  output=output.view(1,28,28)\n",
        "  output=output.permute(1,2,0).squeeze(2)\n",
        "  output=output.detach().cpu().numpy()\n",
        "  \n",
        "  dirty=dirty.view(1,28,28)\n",
        "  dirty=dirty.permute(1,2,0).squeeze(2)\n",
        "  dirty=dirty.detach().cpu().numpy()\n",
        "  \n",
        "  clean=clean.permute(1,2,0).squeeze(2)\n",
        "  clean=clean.detach().cpu().numpy()\n",
        "  \n",
        "  axes[idx,0].imshow(clean,cmap=\"gray\")\n",
        "  axes[idx,1].imshow(dirty,cmap=\"gray\")\n",
        "  axes[idx,2].imshow(output,cmap=\"gray\")\n"
      ],
      "execution_count": 20,
      "outputs": [
        {
          "output_type": "display_data",
          "data": {
            "image/png": "[encoded data removed]",
            "text/plain": [
              "<Figure size 1440x1440 with 18 Axes>"
            ]
          },
          "metadata": {
            "tags": [],
            "needs_background": "light"
          }
        }
      ]
    }
  ]
}